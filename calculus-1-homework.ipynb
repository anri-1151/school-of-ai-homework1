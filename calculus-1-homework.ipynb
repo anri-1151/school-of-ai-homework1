{
 "cells": [
  {
   "cell_type": "code",
   "execution_count": null,
   "metadata": {},
   "outputs": [],
   "source": [
    "%load_ext autoreload\n",
    "%autoreload 2\n",
    "\n",
    "%matplotlib inline"
   ]
  },
  {
   "cell_type": "markdown",
   "metadata": {},
   "source": [
    "## Basic setup"
   ]
  },
  {
   "cell_type": "markdown",
   "metadata": {},
   "source": [
    "Create anaconda environment\n",
    "<br>\n",
    "```bash\n",
    "conda create -n ml python=3.7.4 jupyter\n",
    "```\n",
    "Install fastai library\n",
    "<br>\n",
    "```bash\n",
    "conda install -c pytorch -c fastai fastai\n",
    "```"
   ]
  },
  {
   "cell_type": "code",
   "execution_count": null,
   "metadata": {},
   "outputs": [],
   "source": [
    "!pip install https://github.com/ipython-contrib/jupyter_contrib_nbextensions/tarball/master\n",
    "!pip install jupyter_nbextensions_configurator\n",
    "!jupyter contrib nbextension install --user\n",
    "!jupyter nbextensions_configurator enable --user"
   ]
  },
  {
   "cell_type": "markdown",
   "metadata": {},
   "source": [
    "# Metric spaces"
   ]
  },
  {
   "cell_type": "markdown",
   "metadata": {},
   "source": [
    "#### Prove that:\n",
    "For every metric space (X, d):\n",
    "- For eny $\\mathcal{U} = \\{U | U$ is open in $(X, d)\\}$ holds $\\bigcup_{U \\in \\mathcal{U}} U$ is open in $(X, d)$\n",
    "- For eny two $U, V \\subset X$ open in $(X, d)$ holds: $U \\cap V$ is open in $(X, d)$\n",
    "- $X$ is open in $(X, d)$\n",
    "- $\\emptyset$ is open in $(X, d)$"
   ]
  },
  {
   "cell_type": "markdown",
   "metadata": {},
   "source": [
    "#### approval: \n",
    "By definishion the set $U \\subset X$ is open in metric space (X, d) if for each point $x \\in U$ there exists $r \\in \\mathbb{R}$ such that $B(x, r) \\subset U$. Lets prove the first sentence for two sets and for any idea will be the same. \n",
    "Note that $r_1$, $r_2$ depends on the elements $a_1$, $a_2$. There is a simpler proof: Take $x \\in A_1 \\cup A_2$ Then $x \\in A_1$ or $x \\in A_2$. If $x \\in A_1$, as $A_1$ is open, there exists an $r > 0$ such that $B(x, r) \\subset A_1 \\subset A_1 \\cup A2$ and $B(x, r)$ is an open set. Therefore $A_1 \\cup A_2$ is an open set.\n",
    "<br>\n",
    "Second sentence approval is written below for general case. <br>\n",
    "We know from set theory that $X \\subset X$ is true so by definitin of open metric it means that $X$ is open in $(X, d)$ and also $\\emptyset$ is sub set of any set and so  $\\emptyset$ is open in $(X, d)$"
   ]
  },
  {
   "cell_type": "markdown",
   "metadata": {},
   "source": [
    "#### Prove that:\n",
    "- For eny finity set $(U)_{i=1}^{n}$ of open sets in $(X, d)$, $\\bigcap_{i=1}^{n}U$ is open in $(X, d)$"
   ]
  },
  {
   "cell_type": "markdown",
   "metadata": {},
   "source": [
    "#### approval\n",
    "Let $X = U_1 \\cap U_2$. Then any  $x \\in X$ implies  $x \\in O_1$ and $x \\in O_2$, implying that you should always have an open ball around 𝑥.\n",
    "We prove via contradiction. Now assume $X$ is not open. Since $X$ is not open, there exists $x \\in X$ such that 𝑥 is on the boundary of $X$. This implies that 𝑥 is on the boundary of either $O_1$ or $O_2$. But this is a contradiction, since 𝑥 has to be an interior point of both $O_1$ and $O_2$. Therefore, all elements of $X$ are interior points. Therefore, $X$ must be open."
   ]
  },
  {
   "cell_type": "markdown",
   "metadata": {},
   "source": [
    "#### Prove that for set $U \\subset X$ is open if and only if for each point $x \\in U$ there exists the open neighbourhood $V$ of $x$ such that $V \\subset U$"
   ]
  },
  {
   "cell_type": "markdown",
   "metadata": {},
   "source": [
    "#### approval:\n",
    "Let $x \\in X$ and let $F$ be a closed subset with $x \\notin F$. Then $W = X \\setminus F$ is an open set and $X \\in W$ by hypothesis, there exists an open set $V$ with $x \\in V$  $V \\subseteq V^{-} \\subseteq W$. Then $U = X \\setminus V^{-}$ is an open set and $V \\cap U = \\emptyset$."
   ]
  },
  {
   "cell_type": "markdown",
   "metadata": {},
   "source": [
    "#### Prove that, closed ball is closed subset in $(X, d)$\n"
   ]
  },
  {
   "cell_type": "markdown",
   "metadata": {},
   "source": [
    "#### approval\n",
    "Suppose $D(𝑥_0,r)$ is a closed ball. We show that $X \\setminus D(x_0, r)$ is open. In other words, for every point $y \\in X \\setminus D(x_0, r)$ we need to find an open ball contained in $X \\setminus D$ with center $y$.\n",
    "Since $y \\in X \\setminus D(x_0, r)$, it follows that $d(y, x_0) > r$, so $d(y, x_0) - r > 0$. Let $r_1 = d(y, x_0) - r$.\n",
    "I claim that the open ball $B(y, r_1)$ is contained in $X \\setminus D(x_0, r)$. To prove this, consider any $Z \\in B(y, r_1)$. Notice by the triangle inequality $d(x_0, y) \\leq d(x_0, z) + d(z, y) \\Rightarrow d(z, x_0) \\geq d(x_0, y) - d(z, y) > d(x_0, y) - r_1 = r$.\n",
    "This shows $z \\in X \\setminus D(x_0, r)$, which completes the proof."
   ]
  },
  {
   "cell_type": "markdown",
   "metadata": {},
   "source": [
    "#### Prove that\n",
    "For every metric space (X, d):\n",
    "- For eny $\\mathcal{F} = \\{F | F$ is closed in $(X, d)\\}$ holds $\\bigcap_{F \\in \\mathcal{F}} F$ is closed in $(X, d)$\n",
    "- For eny two $F_1, F_2 \\subset X$ closed in $(X, d)$ holds: $F_1 \\cup F_2$ is closed in $(X, d)$\n",
    "- $X$ is closed in $(X, d)$\n",
    "- $\\emptyset$ is closed in $(X, d)$"
   ]
  },
  {
   "cell_type": "markdown",
   "metadata": {},
   "source": [
    "#### approval\n",
    "By De Morgan's theorem:\n",
    "$\\bigcup_{G \\in V}G^{c} = \\bigcap_{G \\in V}G^{c} = B$. $B$ is a closed set since it is the complement of open set $A$. $G$ is an open set, so $G^{c}$ is a closed set. $B$ is an infinite intersection of closed sets $G^{c}$. Hence infinite intersection of closed sets is closed.<br>\n",
    "We know that X is closed then $X^{-}$ is open so according to this $X$ is closed in $(X, d)$ and $\\emptyset$ is closed in $(X, d)$ are correct. Second Sentence approval is written bellow for general case. "
   ]
  },
  {
   "cell_type": "markdown",
   "metadata": {},
   "source": [
    "#### Prove that:\n",
    "- For eny finity set $(F)_{i=1}^{n}$ of closed sets in $(X, d)$, $\\bigcup_{i=1}^{n}F$ is closed in $(X, d)$"
   ]
  },
  {
   "cell_type": "markdown",
   "metadata": {},
   "source": [
    "#### approval\n",
    "Let $F$ and $G$ be two closed sets and let 𝑥 be a limit point of $F \\cup G$. Now, if 𝑥 is a limit point of $F$ or $G$ it is clearly contained in $F \\cup G$. So suppose that 𝑥 is not a limit point of $F$ and $G$ both. So there are $\\alpha$  and $\\beta$ such that $N_{\\alpha}(x)$ and $N_{\\beta}(x)$ don't intersect with $F$ and $G$ respectively except possibly for 𝑥. But then if $r = min(\\alpha, \\beta)$ then $N_{r}(x)$ doesn't intersect with $F \\cup G$ except possibly for 𝑥, which contradicts 𝑥 being a limit point. This contradiction establishes the result. The proof can be extended easily to finitely many closed sets. Trying to extend it to infinitely many is not possible as then the \"min\" will be replaced by \"inf\" which is not necessarily positive."
   ]
  },
  {
   "cell_type": "markdown",
   "metadata": {},
   "source": [
    "#### Prove that, if $F \\subset X$ is closed then $X - F$ is open in $(X, d)$ "
   ]
  },
  {
   "cell_type": "markdown",
   "metadata": {},
   "source": [
    "#### approval\n",
    "By definition of closed set, each of $S \\setminus V$ are by definition open in $T$. So according to this this sentence is correct."
   ]
  },
  {
   "cell_type": "markdown",
   "metadata": {},
   "source": [
    "# Metrics in Euclidean spaces"
   ]
  },
  {
   "cell_type": "markdown",
   "metadata": {},
   "source": [
    "#### Prove that:\n",
    "- for every $u, v \\in \\mathbb{R}^{n}$: $d(u, v) \\geq 0$\n",
    "- for every $v \\in \\mathbb{R}^{n}$: $d(v, v) = 0$\n",
    "- for every $u, v \\in \\mathbb{R}^{n}$: $d(u, v) = d(v, u)$ (symmetry)\n",
    "- for every $u, v, w \\in \\mathbb{R}^{n}$: $d(u, w) \\leq d(v, u) + d(v, w)$ (triangle inequality)"
   ]
  },
  {
   "cell_type": "markdown",
   "metadata": {},
   "source": [
    "#### Prove the same properties hold for $d(u, v) = ||u-v||_1$ ($||u-v||_1 = \\sum_{i = 1}^{n}|u_i - v_i|$)"
   ]
  },
  {
   "cell_type": "markdown",
   "metadata": {},
   "source": [
    "Distance between $p$ and $q$ in euclidean $n$-space is $d(p, q) = \\sqrt{ \\sum_{i = 1}^{n}(p_i - q_i)^{2} }$\n",
    "<br> \n",
    "so it means that that is for every for every $u, v \\in \\mathbb{R}^{n}$: $d(u, v) \\geq 0$ and $d(v, v) = 0$ and $d(u, v) = d(v, u)$\n",
    "<br>\n",
    "Not prove triangle inequality\n",
    "First establish Cauchy-Schwarz inequality - $|pq| \\leq |p||q|$ \n",
    "<br>\n",
    "$(p - cq)^2 = q^2c^2 - 2(pq)c + p^ \\geq 0$ Thus this quadratic either has a repeated real root or complex roots. Thus its discriminant is non-positive. So $((-2(pq))^2 - 4|p|^2|q|^2 \\leq 0$. This means $4(pq)^2 \\leq 4|q|^2|p|^2$\n",
    "<br>\n",
    "Use Cauchy-Schwarz as follows: $|p + q|^2 = |p|^2 + 2pq + |q|^2 \\leq |p|^2 + 2|p||q| + |q|^2 = (|p| + |q|)^2$ This gives us $|p + q| \\leq |p| + |q|$\n",
    "<br>\n",
    "Now consider 3 points p, q and r $d(p, r) = |p - r| = |p - q + q - r| \\leq |p - q| + |q - r| = d(p, q) + d(q, r)$"
   ]
  },
  {
   "cell_type": "markdown",
   "metadata": {},
   "source": [
    "## Sequences and limits"
   ]
  },
  {
   "cell_type": "markdown",
   "metadata": {},
   "source": [
    "#### Prove that $x = \\lim_{n\\to\\infty}{x_n}$ in $(X, d)$ if and only if (iff) for every $r \\in \\mathbb{R}$ there exists $n_0 \\in \\mathbb{N}$ such that: $x_i \\in B(x, r)$ for every $i \\gt n_0$"
   ]
  },
  {
   "cell_type": "markdown",
   "metadata": {},
   "source": [
    "#### Prove that if $x = \\lim_{n\\to\\infty}{x_n}$ and $x \\notin \\{-\\infty, \\infty\\}$ then $(x_i)_{i=1}^{\\infty} = (x_1, x_2, \\dots, x_n)$ is a Cauchy sequence\n",
    "<br>\n",
    "For closed set $F \\subset \\mathbb{R}^n$ and convergent sequence $(x_i)_{i=1}^{\\infty} = (x_1, x_2, \\dots, x_n)$ such that there exists $n_0 \\in \\mathbb{N}$ such that $x_i \\in F$ for each $i \\gt n_0$ then: $\\lim_{n\\to\\infty}{x_n} \\in F$"
   ]
  },
  {
   "cell_type": "markdown",
   "metadata": {},
   "source": [
    "#### Prove that if $F$ is open from previous example, statement does not hold. "
   ]
  },
  {
   "cell_type": "markdown",
   "metadata": {},
   "source": [
    "#### Prove that inherited metric is a metric"
   ]
  },
  {
   "cell_type": "markdown",
   "metadata": {},
   "source": [
    "#### approval:\n",
    "For inherited metric every sentence which describes metric is true so it is a metric."
   ]
  },
  {
   "cell_type": "markdown",
   "metadata": {},
   "source": [
    "## Limits of functions"
   ]
  },
  {
   "cell_type": "markdown",
   "metadata": {},
   "source": [
    "Let $f:S \\to Y$ is function between subset $S \\subset X$ of a metric space $(X, d_x)$ and metric space $(Y, d_Y)$\n",
    "- We say that the limit of function $f:(S, d_x) \\to (Y, d_Y)$ between metric spaces in some limit point $c \\in X$ of the subset $S$ is $y \\in Y $if for each open neighborhood of $y \\in V \\subset Y$ there exists the open seighborhood of $c \\in U \\subset X$ such that $f(U \\cap S) \\subset V$\n",
    "<br>\n",
    "This definition is equiualent of definition:\n",
    "<br>\n",
    "- The limit of function $f:(S, d_X) \\to (Y, d_Y)$ between metric spaces in limit point $c \\in X$ of the subset $S$ is $y \\in Y $ if for each open ball $B(x, r) \\subset Y$ there exists the ball $B(c, l) \\subset X$ such that $f(B(c, l) \\cap S) \\subset B(y, r)$\n",
    "<br>\n",
    "or\n",
    "<br>\n",
    "- The limit of function $f:(S, d_X) \\to (Y, d_Y)$ between metric spaces in limit point $c \\in X$ of subset $S$ is $y \\in Y $ if for any $r \\in \\mathbb{R}$ there exists $l \\in \\mathbb{R}$ such that for every $x \\in S$ with $d_X(x, c) < l$ implies that $d_Y(f(x), y) < r$"
   ]
  },
  {
   "cell_type": "markdown",
   "metadata": {},
   "source": [
    "#### Prove that this three definitions are equiualent for eny function between eny two metric spaces"
   ]
  },
  {
   "cell_type": "markdown",
   "metadata": {},
   "source": [
    "## Continuous functions "
   ]
  },
  {
   "cell_type": "markdown",
   "metadata": {},
   "source": [
    "#### Prove that function is continuous in $c$ if for eny sequence $(x_n)_{n=1}^{\\infty} \\subset X$ such that $\\lim_{n \\to \\infty}x_n = c$ we have $\\lim_{n \\to \\infty}f(x_n) = f(c)$"
   ]
  },
  {
   "cell_type": "markdown",
   "metadata": {},
   "source": [
    "The $\\epsilon$ definition corresponds to the case when $V$ is an neighborhood of $f(c)$\n",
    "and $U$ is a $\\vartheta$ neighborhood of $c$.\n",
    "Note that $c$ must belong to the domain $A$ of $f$ in order to define the continuity\n",
    "of $f$ at $c$. For sufficiently small $\\vartheta > 0$ the only point $x \\in A$ $|x − c| < \\vartheta$\n",
    "is $x = $c, and then $0 = |f(x) − f(c)| < \\epsilon$. Thus, a function is continuous at every\n",
    "isolated point of its domain, and isolated points are not of much interest.\n",
    "If $c \\in A$ is an accumulation point of $A$, then the continuity of $f$ at $c$ is equivalent\n",
    "to the condition that $\\lim_{x \\to c}f(x) = f(c)$"
   ]
  },
  {
   "cell_type": "markdown",
   "metadata": {},
   "source": [
    "#### Prove that function is continuous if for every open set $V \\subset Y$ the $f^{-1}(V)$ is open in $X$"
   ]
  },
  {
   "cell_type": "markdown",
   "metadata": {},
   "source": [
    "#### approval:\n",
    "Let $U$ be an open set in $Y$, we want to prove that $f^{_1}(U)$ is open in $X$.  \n",
    "If $p$ is a point in $f^{_1}(U)$, we want to show there is a litte open ball arround $p$ that is all contained in $f^{_1}(U)$. But $f(p) \\in U$ which is open set, so there exists a ball $B$ of radius $r$ centered at $f(p)$ and all contained in $U$. We want to show that f is continuous. Let $p$ be a point in $X$, $f(p)$ the corresponding image in $Y$. To show that $f$ is continuous at $p$ we must show that, given a ball $B$ if radius $\\epsilon$ around $f(p)$m there exists a ball $C$ whose image is entirely contained in $B$. But $B$ is an open set. Therefore $f^{_1}(B)$ is open. Therefore $p$ is an interior point for $f^{_1}(B)$: there is a little ball $C$ centered at $p$ contained in $f^{_1}(B)$. This implies that $f(C)$ is contained in $B$, which is what we needed to show."
   ]
  },
  {
   "cell_type": "markdown",
   "metadata": {},
   "source": [
    "#### Prove that function is continuous if for every closed set $F \\subset Y$ the $f^{-1}(F)$ is closed in $X$"
   ]
  },
  {
   "cell_type": "markdown",
   "metadata": {},
   "source": [
    "We want to exploit the previous exercise and the fact that the component of an open set is closed. Assume f is continuous. Let $K$ be any closed set in $Y$. Then $Y \\setminus K$ is open. Then $f^{_1}(Y \\setminus K)$ is open according to previous (above theorem) statement. But $f^{-1}(Y \\setminus K) = X \\setminus f^{-1}(K)$. Hence $f^{-1}(K)$  is closed. Now assume that preimage of any closed set is closed. Let $U$ be any open set in $Y$. $Y \\setminus U$ is closed. Hence $f^{-1}(Y \\setminus U) = X \\setminus f^{-1}(U)$ is closed. Which implies that $f^{-1}(U)$ is open. Hence preimage of any open set is open and f is continuous."
   ]
  },
  {
   "cell_type": "markdown",
   "metadata": {},
   "source": [
    "#### Prove that any composition of continous functions is continous"
   ]
  },
  {
   "cell_type": "markdown",
   "metadata": {},
   "source": [
    "#### approval:\n",
    "Since $f$ is continuous at $g(a)$, definition of continuity tells as that for all $\\epsilon > 0$ there is some $\\vartheta_1$ such that $$|g(x) - g(a)| < \\vartheta_1 \\Rightarrow |f(g(x)) - f(g(a))| < \\epsilon$$ Aslo $g$ is continuous at $a$, there is some $\\vartheta$ such that $$|x - a| < \\vartheta \\Rightarrow |g(x) - g(a)| < \\vartheta_1$$ if $\\epsilon = \\vartheta_1$ this tells us that for all $\\epsilon > 0$ is some $\\vartheta > 0$ such that $$|x - a| < \\vartheta \\Rightarrow |g(x) - g(a)| < \\vartheta_1 \\Rightarrow |f(g(x)) - f(g(a))| < \\epsilon$$, which was what we wanted to prove. "
   ]
  },
  {
   "cell_type": "code",
   "execution_count": null,
   "metadata": {},
   "outputs": [],
   "source": []
  }
 ],
 "metadata": {
  "kernelspec": {
   "display_name": "Python 3",
   "language": "python",
   "name": "python3"
  },
  "language_info": {
   "codemirror_mode": {
    "name": "ipython",
    "version": 3
   },
   "file_extension": ".py",
   "mimetype": "text/x-python",
   "name": "python",
   "nbconvert_exporter": "python",
   "pygments_lexer": "ipython3",
   "version": "3.7.4"
  }
 },
 "nbformat": 4,
 "nbformat_minor": 4
}
