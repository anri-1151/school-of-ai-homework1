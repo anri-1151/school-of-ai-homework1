{
 "cells": [
  {
   "cell_type": "code",
   "execution_count": null,
   "metadata": {},
   "outputs": [],
   "source": [
    "%load_ext autoreload\n",
    "%autoreload 2\n",
    "\n",
    "%matplotlib inline"
   ]
  },
  {
   "cell_type": "markdown",
   "metadata": {},
   "source": [
    "## Basic setup"
   ]
  },
  {
   "cell_type": "markdown",
   "metadata": {},
   "source": [
    "Create anaconda environment\n",
    "<br>\n",
    "```bash\n",
    "conda create -n ml python=3.7.4 jupyter\n",
    "```\n",
    "Install fastai library\n",
    "<br>\n",
    "```bash\n",
    "conda install -c pytorch -c fastai fastai\n",
    "```"
   ]
  },
  {
   "cell_type": "markdown",
   "metadata": {},
   "source": [
    "# Set theory basics"
   ]
  },
  {
   "cell_type": "markdown",
   "metadata": {},
   "source": [
    "#### Prove that:\n",
    "<br>\n",
    "$A \\subseteq A$"
   ]
  },
  {
   "cell_type": "markdown",
   "metadata": {},
   "source": [
    "#### approval:  $\\forall x: (x \\in A \\Rightarrow x \\in A$ )"
   ]
  },
  {
   "cell_type": "markdown",
   "metadata": {},
   "source": [
    "#### Prove that:\n",
    "<br>\n",
    "If $A \\subseteq B$ and $B \\subseteq A$ $\\to$ $A = B$"
   ]
  },
  {
   "cell_type": "markdown",
   "metadata": {},
   "source": [
    "#### approval: <br> \n",
    "Suppose that $A \\subseteq B$ and $B \\subseteq A$. if $A \\neq B$, then there exists $x \\in A \\setminus B$ (or $x \\in B \\setminus A)$, however $A \\subseteq B$ clearly $x \\in B$. This is a contradiction. So 𝐴=𝐵."
   ]
  },
  {
   "cell_type": "markdown",
   "metadata": {},
   "source": [
    "#### Prove that:\n",
    "<br>\n",
    "if $A \\subset B$ then $A \\cap B = B$"
   ]
  },
  {
   "cell_type": "markdown",
   "metadata": {},
   "source": [
    "#### approval:  \n",
    "let $x \\in A \\cap B$  then $x \\in A$ and $x \\in B$. In particular $x \\in A$ so $A \\cap B \\subset A$. Take any $x \\in A$. since $A \\subset B$ and $x \\in A$, so $x \\in B$. Thus we have $x \\in A$ and $x \\in B$, so $x \\in A \\cap B$. Thus $A \\subset A \\cap B$. Hence $A \\cap B =  A$"
   ]
  },
  {
   "cell_type": "markdown",
   "metadata": {},
   "source": [
    "#### Prove that:\n",
    "<br>\n",
    "$A \\cap B = B \\cap A$"
   ]
  },
  {
   "cell_type": "markdown",
   "metadata": {},
   "source": [
    "#### approval: \n",
    "If x is any element in $A \\cap B$, then we know by definition of intersection that $x \\in A$ and $x \\in B$. Hence, $x \\in B$ and $x \\in A$, and so, $x \\in B \\cap A$. Therefore, $A \\cap B \\subseteq B \\cap A$.\n",
    "The reverse inclusion is again identical: if x is any element of $B \\cap A$, then we know $x \\in B$ and $x \\in A$. Hence, $x \\in A$ and $x \\in B$. This implies $x \\in A \\cap B$. Hence, $B \\cap A \\subseteq A \\cap B$.\n",
    "So, $A \\cap B = B \\cap A$."
   ]
  },
  {
   "cell_type": "markdown",
   "metadata": {},
   "source": [
    "#### Prove that:\n",
    "<br>\n",
    "if $A \\subset B$ then $A \\cup B = B$"
   ]
  },
  {
   "cell_type": "markdown",
   "metadata": {},
   "source": [
    "#### approval:\n",
    "First show that $B \\subset  A \\cup B$. $x \\in B$. Then $x \\in A$ or $x \\in B$. Now show $A \\cup B \\subset B$. $x \\in A \\cup B$. we want to show $x \\in B$. Since $x \\in A \\cup B$ then $x \\in A$ or $x \\in B$. In the former case we can conclude that $x \\in B$ because of the hypothesis that $A \\subset B$."
   ]
  },
  {
   "cell_type": "markdown",
   "metadata": {},
   "source": [
    "#### Prove that:\n",
    "<br>\n",
    "$A \\cup B = B \\cup A$"
   ]
  },
  {
   "cell_type": "markdown",
   "metadata": {},
   "source": [
    "#### approval: \n",
    "If x is any element in $A \\cup B$ then, by definition of union, we have $x \\in A$ or $x \\in B$. But, if x is in A or B, then it is in B or A, and by definition of union, this means $x \\in B \\cup A$. Therefore, $A \\cup B \\subseteq B \\cup A$.\n",
    "The other inclusion is identical: if x is any element of $B \\cup A$, then we know $x \\in B$ or $x \\in A$. But, $x \\in B$ or $x \\in A$ implies that x is in A or B; and hence, $x \\in A \\cup B$. Therefore, $B\\ \\cup A \\subseteq A \\cup B$.\n",
    "Hence, $A \\cup B = B \\cup A$."
   ]
  },
  {
   "cell_type": "markdown",
   "metadata": {},
   "source": [
    "#### Prove that:\n",
    "- for every injection $m:A \\to B$ and pair of functions $f, g :C \\to A$: if $m \\circ f = m \\circ g$ then $f = g$ and vice-versa\n",
    "- for every surjection $e:A \\to B$ and every pair of functions $f, g :B \\to C$: if $f \\circ e = g \\circ e$ then $f = g$ and vice-versa"
   ]
  },
  {
   "cell_type": "markdown",
   "metadata": {},
   "source": [
    "#### approval:\n",
    "a) $m \\circ f(x) = m \\circ g(x) \\to m(f(x)) = m(g(x)) \\to f(x) = g(x)$ and because of injective functions should be same\n",
    "<br>\n",
    "b) $(f \\circ e)(x) = (g \\circ e)(x) \\Rightarrow f(e(x)) = g(e(x))$ because of surjecton functiuons this f and g should be same"
   ]
  },
  {
   "cell_type": "markdown",
   "metadata": {},
   "source": [
    "#### Prove that \n",
    "- composition of injections is injection itself\n",
    "- composition of surjections is surjection itself\n",
    "- composition of bijections is bijection itself\n",
    "<br>\n",
    "or give a counterexamples"
   ]
  },
  {
   "cell_type": "markdown",
   "metadata": {},
   "source": [
    "#### approval: \n",
    "a) Let f and g be injections then $f \\circ g(x) = f \\circ g(y) \\to f(g(x)) = f(g(y))$ (composit of mappings) $ \\to g(x) = g(y)$ as f is injective and x = y as g is injective\n",
    "\n",
    "b) $(g \\circ f)(x) = g(f(x))$. so if f is onto, then it means for all $y \\in Y$ there exists an $x \\in X$ such that y = f(x). Since g is onto, it also means that for all $z \\in Z$ there exists a $y \\in Y$ such that g(y) = g(f(x)) = z. Thus for all $z \\in Z$ there exists an $x \\in X$ such that g(f(x)) = z. Hence $g \\circ f$ is onto. (g must be necessary to be onto not f)\n",
    "\n",
    "c) by a and b $g \\circ f$ is both injective and surjective and hence is bijection by definition"
   ]
  },
  {
   "cell_type": "markdown",
   "metadata": {},
   "source": [
    "#### Prove that for each set $A$:\n",
    "- $A \\cong A$\n",
    "- if $B \\cong A$ then $B \\cong A$ for every pair of sets $A$ and $B$\n",
    "- if $A \\cong B$ and $B \\cong C$ then $A \\cong C$ for every triplet $A$, $B$ and $C$"
   ]
  },
  {
   "cell_type": "markdown",
   "metadata": {},
   "source": [
    "#### aproval:\n",
    "We know that two sets are equivalent if there is biujection between them. In these cases if we say that these sets aren't equivalent we get contradiction. So these cases are true. "
   ]
  },
  {
   "cell_type": "markdown",
   "metadata": {},
   "source": [
    "#### Prove that:\n",
    "<br>\n",
    "there exists a bijection between set of natural and even numbers"
   ]
  },
  {
   "cell_type": "markdown",
   "metadata": {},
   "source": [
    "#### approval:\n",
    "Bijection means when there is both injection and surjection. Between sets of natural and even numbers it's clear that there exists injection. Also it's clear that surjection exists between them and it means that a bijection exists between them "
   ]
  },
  {
   "cell_type": "markdown",
   "metadata": {},
   "source": [
    "#### Prove that:\n",
    "<br>\n",
    "if we have a bijection between two finite sets than they have an equal number of elements"
   ]
  },
  {
   "cell_type": "markdown",
   "metadata": {},
   "source": [
    "#### approval: \n",
    "$f$ is bijective, so it is injective and surjective.\n",
    "\n",
    "Since $f$ is injective, $f(a) = f(b) \\Rightarrow => a = b$. For a given value in the range, there is one and only one value in the domain. So the cardinality of the domain is less than or equal to the cardinality of the range. There could be points in the range not mapped from the domain.\n",
    "Since $f$ is surjective, every element of the range has a pre image in the domain. The domain might have some elements not mapped to elements of the range. So the cardinality of the domain is greater than or equal to the cardinality of the range.\n",
    "so finaly $n \\leq m$ and $n \\geq m \\Rightarrow n = m$"
   ]
  },
  {
   "cell_type": "markdown",
   "metadata": {},
   "source": [
    "#### Prove that:\n",
    "<br>\n",
    "$A \\times B \\cong B \\times A$"
   ]
  },
  {
   "cell_type": "markdown",
   "metadata": {},
   "source": [
    "$\\cap_{i\\in I}A_i$ and $\\cup_{i\\in I}A_i$"
   ]
  },
  {
   "cell_type": "code",
   "execution_count": 8,
   "metadata": {},
   "outputs": [
    {
     "data": {
      "text/plain": [
       "({(1, 4), (1, 5), (2, 4), (2, 5), (3, 4), (3, 5)},\n",
       " {(4, 1), (4, 2), (4, 3), (5, 1), (5, 2), (5, 3)})"
      ]
     },
     "execution_count": 8,
     "metadata": {},
     "output_type": "execute_result"
    }
   ],
   "source": [
    "A = {1, 2, 3}\n",
    "B = {4, 5}\n",
    "AxB = {(a, b) for a in A for b in B}\n",
    "AxB,BxA"
   ]
  },
  {
   "cell_type": "markdown",
   "metadata": {},
   "source": [
    "We can also define cartesian product of any \"number\" of sets $\\prod_{i \\in I}{A_i}$"
   ]
  },
  {
   "cell_type": "code",
   "execution_count": 2,
   "metadata": {},
   "outputs": [
    {
     "data": {
      "text/plain": [
       "{(10, 13),\n",
       " (10, 23),\n",
       " (12, 13),\n",
       " (12, 23),\n",
       " (13, 13),\n",
       " (13, 23),\n",
       " (14, 13),\n",
       " (14, 23)}"
      ]
     },
     "execution_count": 2,
     "metadata": {},
     "output_type": "execute_result"
    }
   ],
   "source": [
    "a = {10, 12, 13, 14}\n",
    "b = {23, 13}\n",
    "p = set(((x, y) for x in a for y in b))\n",
    "p"
   ]
  },
  {
   "cell_type": "markdown",
   "metadata": {},
   "source": [
    "#### Prove that:\n",
    "<br>\n",
    "$$A \\cap (B \\cup C)=(A \\cap B) \\cup (A\\cap C)$$\n",
    "\n",
    "#### approval: \n",
    "\n",
    "<br>\n",
    "We will show that (i) $A \\cap (B \\cup C) \\subseteq (A \\cap B) \\cup (A \\cap C)$ and \n",
    "(ii) $(A \\cap B) \\cup (A \\cap C) \\subseteq A \\cap (B \\cup C)$. \n",
    "To prove (i), let $x \\in A \\cap (B \\cup C)$.  Then $x \\in A$  and $x \\in B \\cup C$. (Why?) Thus $x \\in A$ and $x \\in B$ or $x \\in C$.(Why?)\n",
    "Hence $x \\in A$ and $x \\in B$ or $x \\in A$ and $x \\in C$. In other words, we have $x \\in A \\cap B$ or $x \\in A \\cap C$ Therefore, $x \\in (A \\cap B) \\cup (A \\cap C)$ that is $A \\cap (B \\cup C) \\subseteq (A \\cap B) \\cup (A \\cap C)$.\n",
    "prove (ii) in a similar manner. and it means that  $$A \\cap (B \\cup C)=(A \\cap B) \\cup (A\\cap C)$$\n",
    "so we're done\n",
    "\n",
    "$$A \\cup (B \\cap C)=(A \\cup B) \\cap (A\\cup C)$$\n",
    "#### approval:\n",
    "Since $B \\cap C \\subseteq B$ and $B \\cap C \\subseteq C$ we have $A \\cup (B \\cap C) \\subseteq A \\cup B$ and $A \\cup (B \\cap C) \\subseteq A \\cup C$ This shows that $A \\cup (B \\cap C)$ is contained in both $A \\cup B$ and $A \\cup C$  so it is contained in their intersection: $A \\cup (B \\cap C) \\subseteq (A \\cup B) \\cap (A \\cup C)$ This proves containment in one direction. For the opposite direction, suppose that $x \\in (A \\cup B) \\cap (A \\cup C)$. There are two possibilities: either $x \\in A$ or $x \\not\\in A$.\n",
    "\n",
    "If $x \\in A$ then certainly $x \\in A \\cup (B \\cap C)$. \n",
    "\n",
    "On the other hand, if $x \\not\\in A$ then 𝑥 must be in both 𝐵 and 𝐶, since $x \\in (A \\cup B) \\cap (A \\cup C)$. Consequently, $x \\in B \\cap C$ and therefore $x \\in A \\cup (B \\cap C)$.\n",
    "\n",
    "In both cases we have $x \\in A \\cup (B \\cap C)$. This proves the containment\n",
    "$$A \\cup (B \\cap C)=(A \\cup B) \\cap (A\\cup C)$$\n",
    "so we're done."
   ]
  },
  {
   "cell_type": "markdown",
   "metadata": {},
   "source": [
    "# Linear Algebra"
   ]
  },
  {
   "cell_type": "markdown",
   "metadata": {},
   "source": [
    "#### Prove that:\n",
    "<br>\n",
    "$(AB)^{T} = B^{T}A^{T}$ for each pair of matrices $A, B \\in \\mathbb{R}^{n \\times m}$"
   ]
  },
  {
   "cell_type": "markdown",
   "metadata": {},
   "source": [
    "#### approval:\n",
    "\n",
    "one way: \n",
    "\n",
    "First observe that $(AB)_{i, j}=\\sum_{k = 1}^{n}{A_{i, k}B_{k, j}}$ Furthermore, if we transpose a matrix we switch\n",
    "the rows and the columns. These facts together mean that we can write $((AB)^{T})_{i,j}=(AB)_{j, i}=\\sum_{k = 1}^{n}{A_{j, k}B_{k, i}}$ and $ (B^{T}A^{T})_{i,j}=\\sum_{k = 1}^{n}(B^{T})_{i,k}(A^{T})_{k,j}=\\sum_{k = 1}^{n}b_{k,i}a_{j,k}$\n",
    "\n",
    "From here is is clear that the ij entry of the left and right sides are equal. Therefore the matrices are equal.\n",
    "\n",
    "\n",
    "second way: \n",
    "\n",
    "𝐴 is the matrix of a linear map 𝑓:𝐸→𝐹 in some bases of vector spaces 𝐸 and 𝐹, 𝐵 is likewise the matrix of a linear map 𝑔:𝐹→𝐺, after a basis in 𝐺 has been chosen, and 𝐵𝐴 is the matrix of 𝑔∘𝑓:𝐸→𝐺.\n",
    "\n",
    "Now the transposed map t𝑓:𝐹∗→𝐸∗ is defined by t𝑓(𝜑)=𝜑∘𝑓. It has matrix t𝐴 in the dual bases of 𝐸∗ and 𝐹∗.\n",
    "\n",
    "If 𝜑∈𝐺∗:\n",
    "t(𝑔∘𝑓)(𝜑)=𝜑∘(𝑔∘𝑓)=(𝜑∘𝑔)∘𝑓=t𝑔(𝜑)∘𝑓=t𝑓(t𝑔(𝜑)),\n",
    "which proves t(𝑔∘𝑓)=t𝑓∘t𝑔, hence the matrices of both sides are equal:\n",
    "t(𝐵𝐴)=t𝐴t𝐵."
   ]
  },
  {
   "cell_type": "markdown",
   "metadata": {},
   "source": [
    "## Functions on tensors"
   ]
  },
  {
   "cell_type": "markdown",
   "metadata": {},
   "source": [
    "#### Write combination for $XOR$ calculation"
   ]
  },
  {
   "cell_type": "code",
   "execution_count": 39,
   "metadata": {},
   "outputs": [],
   "source": [
    "import numpy as np\n",
    "import math as math"
   ]
  },
  {
   "cell_type": "code",
   "execution_count": 40,
   "metadata": {},
   "outputs": [],
   "source": [
    "sig = np.vectorize(lambda x: 1 / (1 + math.exp(-x)))"
   ]
  },
  {
   "cell_type": "code",
   "execution_count": 41,
   "metadata": {},
   "outputs": [],
   "source": [
    "W = np.array([20, 20]) # Weights\n",
    "b_and = np.array([-30]) # bias for and\n",
    "b_or = np.array([-10]) #bias for or"
   ]
  },
  {
   "cell_type": "code",
   "execution_count": 42,
   "metadata": {},
   "outputs": [],
   "source": [
    "X = np.array([1, 0])"
   ]
  },
  {
   "cell_type": "code",
   "execution_count": 43,
   "metadata": {},
   "outputs": [],
   "source": [
    "ff = lambda _X, _W, _b: sig(np.dot(_W.T, _X) + _b)"
   ]
  },
  {
   "cell_type": "code",
   "execution_count": 44,
   "metadata": {},
   "outputs": [],
   "source": [
    "BA = [[0, 0], [0, 1], [1, 0], [1, 1]]"
   ]
  },
  {
   "cell_type": "code",
   "execution_count": 51,
   "metadata": {},
   "outputs": [
    {
     "name": "stdout",
     "output_type": "stream",
     "text": [
      "[0, 0] [0.]\n",
      "[0, 1] [1.]\n",
      "[1, 0] [1.]\n",
      "[1, 1] [0.]\n"
     ]
    }
   ],
   "source": [
    "#xor is or operand minus and\n",
    "for ba in BA:\n",
    "    print(ba, np.around(ff(ba, W, b_or), decimals=1) - np.around(ff(ba, W, b_and), decimals=1))"
   ]
  },
  {
   "cell_type": "code",
   "execution_count": null,
   "metadata": {},
   "outputs": [],
   "source": []
  }
 ],
 "metadata": {
  "kernelspec": {
   "display_name": "Python 3",
   "language": "python",
   "name": "python3"
  },
  "language_info": {
   "codemirror_mode": {
    "name": "ipython",
    "version": 3
   },
   "file_extension": ".py",
   "mimetype": "text/x-python",
   "name": "python",
   "nbconvert_exporter": "python",
   "pygments_lexer": "ipython3",
   "version": "3.7.4"
  }
 },
 "nbformat": 4,
 "nbformat_minor": 4
}
