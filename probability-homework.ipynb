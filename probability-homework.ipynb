{
 "cells": [
  {
   "cell_type": "code",
   "execution_count": null,
   "metadata": {},
   "outputs": [],
   "source": [
    "%load_ext autoreload\n",
    "%autoreload 2\n",
    "\n",
    "%matplotlib inline"
   ]
  },
  {
   "cell_type": "markdown",
   "metadata": {},
   "source": [
    "## Basic setup"
   ]
  },
  {
   "cell_type": "markdown",
   "metadata": {},
   "source": [
    "Create anaconda environment\n",
    "<br>\n",
    "```bash\n",
    "conda create -n ml python=3.7.4 jupyter\n",
    "```\n",
    "Install fastai library\n",
    "<br>\n",
    "```bash\n",
    "conda install -c pytorch -c fastai fastai\n",
    "```"
   ]
  },
  {
   "cell_type": "markdown",
   "metadata": {},
   "source": [
    "# Sigma-algebras"
   ]
  },
  {
   "cell_type": "markdown",
   "metadata": {},
   "source": [
    "#### Prove that:\n",
    "Composition of mesurable functions is a mesurable function"
   ]
  },
  {
   "cell_type": "markdown",
   "metadata": {},
   "source": [
    "#### approval:\n",
    "Let $(X, \\Sigma_x)$, $(Y, \\Sigma_y)$, and $(Z, \\Sigma_z)$ be measurable spaces. If\n",
    "$f : X \\to Y$ and $g : Y \\to Z$ are measurable with respect to the given $\\sigma$-algebras,\n",
    "then $g \\circ f : X \\to Z$ is measurable\n",
    "<br>\n",
    "We simply have to verify that if E is a measurable subset of Z then its\n",
    "inverse image under $g \\circ f$ is a measurable subset of X. This follows from the\n",
    "individual measurability of f and g, for if $E \\in \\Sigma_z$ then $g^-1(E) \\in \\Sigma_z$ since g is measurable and hence $(g \\circ f)^{-1}(E) = f^{-1}(g^{-1}(E)) \\in \\Sigma_x$\n",
    "<br>\n",
    "To emphasize, this we should show that f is $(\\Sigma_x, \\Sigma_y)$ - measurable and g is $(\\Sigma_y, \\Sigma_z)$ measurable. This gives measurability of $g \\circ f$\n"
   ]
  },
  {
   "cell_type": "markdown",
   "metadata": {},
   "source": [
    "## Mesure"
   ]
  },
  {
   "cell_type": "markdown",
   "metadata": {},
   "source": [
    "#### Prove the following mesure properties:\n",
    "- if $A \\subset B$ then $\\mu(A) \\le \\mu(B)$"
   ]
  },
  {
   "cell_type": "markdown",
   "metadata": {},
   "source": [
    "#### approval:\n",
    "<br>\n",
    "$(B - A) \\cup (A \\cap B) = (B - A) \\cup A = B$ and $(B - A) \\cap (A \\cap B) = \\emptyset$ so $\\mu((B - A) \\cup (A \\cap B)) = \\mu(B - A) + \\mu(A \\cap B) = \\mu(B - A) + \\mu(A) = \\mu(B)$ so $\\mu(A) \\le \\mu(B)$"
   ]
  },
  {
   "cell_type": "markdown",
   "metadata": {},
   "source": [
    "## Probability"
   ]
  },
  {
   "cell_type": "markdown",
   "metadata": {},
   "source": [
    "#### Prove that:\n",
    "For probability mesure $P$ and events $A, B, C \\subset \\Omega$\n",
    "- $P(A \\cup B) = P(A) + P(B) - P(A \\cap B)$\n",
    "<br>"
   ]
  },
  {
   "cell_type": "markdown",
   "metadata": {},
   "source": [
    "#### approval:\n",
    "Let's say we have a Venn diagram with crescent $D$ on the left, intersection $E$ in the middle and crescent $F$ on the right where $D,E,F$ are disjoint events and their probabilities can be added\n",
    "\n",
    "- $P(A) = P(D) + P(E)$\n",
    "- $P(B) = P(F) + P(E)$\n",
    "- $P(A \\cap B) = P(E)$\n",
    "- $P(A \\cup B) = P(D) + P(E) + P(F)$\n",
    "Now it should be reasonably clear from this final point that\n",
    "$P(A \\cup B) = (P(D) + P(E)) + (P(F) + P(E)) - P(E) \\Rightarrow P(A) + P(B) - P(A \\cap B)$"
   ]
  },
  {
   "cell_type": "markdown",
   "metadata": {},
   "source": [
    "## Random variable"
   ]
  },
  {
   "cell_type": "markdown",
   "metadata": {},
   "source": [
    "#### Prove that:\n",
    "$$\n",
    "\\sigma^2 = \\operatorname{E}[X^2] - (\\operatorname{E}[X])^2\n",
    "$$\n",
    "Assuming that expectation exists\n",
    "<br>\n",
    "Denoted by $\\sigma^2$\n",
    "<br>"
   ]
  },
  {
   "cell_type": "markdown",
   "metadata": {},
   "source": []
  },
  {
   "cell_type": "markdown",
   "metadata": {},
   "source": [
    "#### approval:\n",
    "$\\sigma^2 = E[(X-E[X])^2) = E[X^2 - 2XE[X] + (E[X])^2) = E[X^2] - E[2XE[X]] + E[(E[X])^2]$ \n",
    "<br>\n",
    "Now $E[X]$ is another constant so $E[(E[X])^2] = (E[X])^2$ and $E[XE[X]] = E[E[X]E[X]] = E[X]E[X]$ so $E[2XE[X]] = 2(E[X])^2$\n",
    "<br> \n",
    "finally $\\sigma^2 = E[X^2] - 2(E[X])^2 + (E[X])^2 = E[X^2] - (E[X])^2$"
   ]
  },
  {
   "cell_type": "code",
   "execution_count": null,
   "metadata": {},
   "outputs": [],
   "source": []
  }
 ],
 "metadata": {
  "kernelspec": {
   "display_name": "Python 3",
   "language": "python",
   "name": "python3"
  },
  "language_info": {
   "codemirror_mode": {
    "name": "ipython",
    "version": 3
   },
   "file_extension": ".py",
   "mimetype": "text/x-python",
   "name": "python",
   "nbconvert_exporter": "python",
   "pygments_lexer": "ipython3",
   "version": "3.7.4"
  }
 },
 "nbformat": 4,
 "nbformat_minor": 4
}
