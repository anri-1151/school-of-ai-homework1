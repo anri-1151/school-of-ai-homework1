{
 "cells": [
  {
   "cell_type": "code",
   "execution_count": 2,
   "metadata": {},
   "outputs": [],
   "source": [
    "#import libraries\n",
    "import matplotlib.pyplot as plt                                 #for plotting graph of x,y\n",
    "import numpy as np                                             #for using data as array\n",
    "from sklearn import linear_model                              #for model we want to predict by\n",
    "import pandas as pd                                          #for loading csv file data to numpy array\n",
    "from sklearn.metrics import mean_squared_error, r2_score     #for mean error and variance calculation\n",
    "from sklearn.model_selection import train_test_split        "
   ]
  },
  {
   "cell_type": "code",
   "execution_count": 5,
   "metadata": {},
   "outputs": [],
   "source": [
    "#load dataset\n",
    "dataset = pd.read_csv('weather.csv')"
   ]
  },
  {
   "cell_type": "code",
   "execution_count": 9,
   "metadata": {},
   "outputs": [
    {
     "data": {
      "text/plain": [
       "(array([28.94, 28.79, 28.59, 28.47, 28.4 , 28.45, 28.5 , 28.69, 29.18,\n",
       "        30.49, 31.15, 32.27, 32.84, 32.99, 32.8 , 32.51, 32.15, 32.05,\n",
       "        31.36, 30.59, 30.22, 29.96, 29.74, 29.59, 29.24, 29.03, 28.97,\n",
       "        28.9 , 28.83, 28.85, 28.94, 29.59, 29.47, 29.38, 29.22, 29.46,\n",
       "        30.24, 30.93, 30.74, 30.74, 30.94, 31.21, 30.68, 30.05, 29.7 ,\n",
       "        29.52, 29.38, 29.31, 29.12, 28.96, 28.88, 28.79, 28.71, 28.64,\n",
       "        28.86, 28.87, 29.42, 30.27, 31.08, 31.91, 32.53, 32.92, 33.06,\n",
       "        32.83, 31.38, 31.74, 30.95, 30.25, 29.96, 29.7 , 29.35, 29.16,\n",
       "        29.07, 28.98, 28.91, 28.86, 28.81, 28.67, 28.59, 29.17, 30.29,\n",
       "        31.19, 31.51, 30.98, 30.78, 31.89, 32.65, 32.57, 32.28, 31.85,\n",
       "        31.1 , 30.26, 29.95, 29.77, 29.62, 29.44, 29.28, 29.32, 29.17,\n",
       "        28.95, 28.73, 28.65, 28.76, 29.7 , 30.65, 31.51, 32.28, 32.88,\n",
       "        32.81, 32.76, 33.  , 32.95, 32.61, 31.69, 31.01, 30.23, 29.83,\n",
       "        29.54, 29.38, 29.19, 29.07, 29.08, 28.94, 28.83, 28.85, 28.83,\n",
       "        28.63, 29.58, 30.23, 31.1 , 30.57, 31.97, 32.57, 32.06, 32.38,\n",
       "        32.32, 32.02, 30.63, 30.21, 29.72, 29.5 , 29.31, 29.18, 29.1 ,\n",
       "        29.08, 29.11, 28.81, 28.61, 28.52, 28.5 , 28.67, 29.7 , 30.28,\n",
       "        30.84, 31.24, 30.22, 30.11, 30.14, 30.22, 30.05, 29.8 , 29.61,\n",
       "        29.67, 29.27, 29.  , 28.87, 28.88, 28.74, 28.65, 28.5 , 28.07,\n",
       "        27.71, 27.09, 26.65, 28.53, 28.42, 28.68, 28.88, 29.25, 29.32,\n",
       "        29.07, 29.45, 29.81, 29.43, 29.33, 29.18, 29.01, 28.66, 28.53,\n",
       "        28.44, 28.44, 28.42]),\n",
       " array([77, 79, 79, 79, 78, 78, 78, 78, 76, 72, 70, 66, 63, 62, 63, 64, 65,\n",
       "        68, 70, 72, 74, 76, 78, 80, 79, 75, 76, 76, 76, 77, 78, 75, 77, 76,\n",
       "        76, 75, 72, 69, 69, 68, 66, 67, 69, 73, 78, 75, 76, 78, 75, 77, 79,\n",
       "        79, 79, 81, 81, 75, 72, 69, 67, 65, 64, 64, 64, 65, 72, 66, 68, 71,\n",
       "        73, 76, 76, 74, 75, 76, 78, 81, 82, 79, 81, 79, 74, 69, 67, 69, 72,\n",
       "        67, 62, 61, 63, 65, 68, 72, 74, 76, 78, 80, 80, 80, 82, 81, 79, 80,\n",
       "        82, 77, 72, 68, 66, 63, 62, 61, 60, 60, 61, 68, 71, 75, 73, 74, 76,\n",
       "        79, 80, 81, 79, 80, 81, 80, 79, 75, 71, 68, 70, 65, 63, 66, 64, 65,\n",
       "        66, 73, 75, 77, 77, 77, 77, 76, 77, 76, 77, 77, 78, 78, 78, 73, 70,\n",
       "        68, 66, 70, 71, 72, 71, 72, 73, 74, 74, 76, 77, 77, 78, 79, 79, 78,\n",
       "        81, 82, 86, 89, 86, 88, 83, 77, 75, 74, 75, 74, 73, 74, 74, 74, 74,\n",
       "        77, 78, 78, 79, 79]))"
      ]
     },
     "execution_count": 9,
     "metadata": {},
     "output_type": "execute_result"
    }
   ],
   "source": [
    "#splitting to independent(x) and dependent(y) variables\n",
    "x = dataset.iloc[:, 2].values\n",
    "y = dataset.iloc[:, 3].values\n",
    "x, y"
   ]
  },
  {
   "cell_type": "code",
   "execution_count": 12,
   "metadata": {},
   "outputs": [],
   "source": [
    "#train and test data split\n",
    "x_train, x_test, y_train, y_test = train_test_split(x, y, test_size = 1/3, random_state = 0)"
   ]
  },
  {
   "cell_type": "code",
   "execution_count": 14,
   "metadata": {},
   "outputs": [
    {
     "data": {
      "text/plain": [
       "(array([[33.  ],\n",
       "        [28.91],\n",
       "        [29.27],\n",
       "        [29.32],\n",
       "        [28.63],\n",
       "        [29.16],\n",
       "        [31.36],\n",
       "        [30.14],\n",
       "        [29.11],\n",
       "        [28.69],\n",
       "        [28.45],\n",
       "        [29.72],\n",
       "        [30.22],\n",
       "        [28.07],\n",
       "        [29.8 ],\n",
       "        [28.74],\n",
       "        [30.93],\n",
       "        [30.95],\n",
       "        [30.21],\n",
       "        [28.94],\n",
       "        [29.42],\n",
       "        [28.66],\n",
       "        [32.02],\n",
       "        [29.81],\n",
       "        [28.42],\n",
       "        [30.28],\n",
       "        [32.83],\n",
       "        [32.53],\n",
       "        [29.61],\n",
       "        [29.38],\n",
       "        [28.4 ],\n",
       "        [28.87],\n",
       "        [29.28],\n",
       "        [29.7 ],\n",
       "        [29.52],\n",
       "        [28.97],\n",
       "        [29.25],\n",
       "        [29.07],\n",
       "        [31.69],\n",
       "        [29.18],\n",
       "        [28.65],\n",
       "        [31.85],\n",
       "        [31.1 ],\n",
       "        [29.38],\n",
       "        [28.42],\n",
       "        [32.95],\n",
       "        [29.24],\n",
       "        [28.94],\n",
       "        [32.61],\n",
       "        [32.92],\n",
       "        [28.88],\n",
       "        [28.83],\n",
       "        [30.59],\n",
       "        [28.81],\n",
       "        [30.98],\n",
       "        [28.86],\n",
       "        [30.11],\n",
       "        [32.15],\n",
       "        [28.79],\n",
       "        [32.65],\n",
       "        [29.1 ],\n",
       "        [30.94],\n",
       "        [28.68],\n",
       "        [29.74]]), array([[31.97],\n",
       "        [30.57],\n",
       "        [30.63],\n",
       "        [30.29],\n",
       "        [32.81],\n",
       "        [32.8 ],\n",
       "        [28.9 ],\n",
       "        [29.95],\n",
       "        [32.76],\n",
       "        [29.38],\n",
       "        [28.53],\n",
       "        [29.17],\n",
       "        [33.06],\n",
       "        [28.59],\n",
       "        [31.91],\n",
       "        [32.28],\n",
       "        [32.88],\n",
       "        [30.05],\n",
       "        [31.15],\n",
       "        [29.77],\n",
       "        [28.98],\n",
       "        [29.18],\n",
       "        [27.71],\n",
       "        [28.85],\n",
       "        [28.44],\n",
       "        [32.38],\n",
       "        [31.24],\n",
       "        [29.33],\n",
       "        [28.88],\n",
       "        [28.94],\n",
       "        [29.62],\n",
       "        [30.84],\n",
       "        [29.44],\n",
       "        [31.38],\n",
       "        [32.32],\n",
       "        [31.21],\n",
       "        [29.7 ],\n",
       "        [28.96],\n",
       "        [29.12],\n",
       "        [31.89],\n",
       "        [32.99],\n",
       "        [29.08],\n",
       "        [29.59],\n",
       "        [29.32],\n",
       "        [31.1 ],\n",
       "        [30.22],\n",
       "        [32.51],\n",
       "        [28.59],\n",
       "        [30.65],\n",
       "        [28.71],\n",
       "        [28.73],\n",
       "        [28.81],\n",
       "        [28.47],\n",
       "        [29.83],\n",
       "        [28.44],\n",
       "        [28.83],\n",
       "        [28.5 ],\n",
       "        [29.96],\n",
       "        [28.86],\n",
       "        [30.78],\n",
       "        [29.31],\n",
       "        [29.08],\n",
       "        [32.84],\n",
       "        [28.65],\n",
       "        [29.  ],\n",
       "        [28.5 ],\n",
       "        [30.26],\n",
       "        [26.65],\n",
       "        [32.27],\n",
       "        [29.19],\n",
       "        [28.76],\n",
       "        [29.46],\n",
       "        [30.27],\n",
       "        [31.74],\n",
       "        [28.79],\n",
       "        [29.07],\n",
       "        [30.22],\n",
       "        [30.68],\n",
       "        [31.51],\n",
       "        [32.57],\n",
       "        [28.88],\n",
       "        [32.05],\n",
       "        [30.74],\n",
       "        [32.06],\n",
       "        [28.64],\n",
       "        [28.67],\n",
       "        [30.23],\n",
       "        [29.22],\n",
       "        [28.83],\n",
       "        [31.01],\n",
       "        [29.7 ],\n",
       "        [29.59],\n",
       "        [30.05],\n",
       "        [29.58],\n",
       "        [28.5 ],\n",
       "        [29.47],\n",
       "        [29.18],\n",
       "        [29.67],\n",
       "        [28.61],\n",
       "        [28.85],\n",
       "        [28.95],\n",
       "        [31.51],\n",
       "        [29.17],\n",
       "        [30.23],\n",
       "        [28.52],\n",
       "        [29.01],\n",
       "        [29.07],\n",
       "        [28.67],\n",
       "        [29.03],\n",
       "        [28.87],\n",
       "        [31.19],\n",
       "        [29.45],\n",
       "        [28.53],\n",
       "        [29.43],\n",
       "        [30.74],\n",
       "        [31.08],\n",
       "        [29.5 ],\n",
       "        [32.28],\n",
       "        [29.35],\n",
       "        [32.57],\n",
       "        [30.24],\n",
       "        [29.96],\n",
       "        [30.49],\n",
       "        [29.7 ],\n",
       "        [30.25],\n",
       "        [29.54],\n",
       "        [29.31],\n",
       "        [27.09]]))"
      ]
     },
     "execution_count": 14,
     "metadata": {},
     "output_type": "execute_result"
    }
   ],
   "source": [
    "#reshaping array to convert from 1D to 2D array\n",
    "x_test=x_test.reshape(-1,1)\n",
    "x_train=x_train.reshape(-1,1)\n",
    "x_test, x_train"
   ]
  },
  {
   "cell_type": "code",
   "execution_count": 15,
   "metadata": {},
   "outputs": [],
   "source": [
    "#\"lin_reg\" is our model calling model \"LinearRegression()\"\n",
    "lin_reg = linear_model.LinearRegression()"
   ]
  },
  {
   "cell_type": "code",
   "execution_count": 17,
   "metadata": {},
   "outputs": [
    {
     "data": {
      "text/plain": [
       "(array([[31.97],\n",
       "        [30.57],\n",
       "        [30.63],\n",
       "        [30.29],\n",
       "        [32.81],\n",
       "        [32.8 ],\n",
       "        [28.9 ],\n",
       "        [29.95],\n",
       "        [32.76],\n",
       "        [29.38],\n",
       "        [28.53],\n",
       "        [29.17],\n",
       "        [33.06],\n",
       "        [28.59],\n",
       "        [31.91],\n",
       "        [32.28],\n",
       "        [32.88],\n",
       "        [30.05],\n",
       "        [31.15],\n",
       "        [29.77],\n",
       "        [28.98],\n",
       "        [29.18],\n",
       "        [27.71],\n",
       "        [28.85],\n",
       "        [28.44],\n",
       "        [32.38],\n",
       "        [31.24],\n",
       "        [29.33],\n",
       "        [28.88],\n",
       "        [28.94],\n",
       "        [29.62],\n",
       "        [30.84],\n",
       "        [29.44],\n",
       "        [31.38],\n",
       "        [32.32],\n",
       "        [31.21],\n",
       "        [29.7 ],\n",
       "        [28.96],\n",
       "        [29.12],\n",
       "        [31.89],\n",
       "        [32.99],\n",
       "        [29.08],\n",
       "        [29.59],\n",
       "        [29.32],\n",
       "        [31.1 ],\n",
       "        [30.22],\n",
       "        [32.51],\n",
       "        [28.59],\n",
       "        [30.65],\n",
       "        [28.71],\n",
       "        [28.73],\n",
       "        [28.81],\n",
       "        [28.47],\n",
       "        [29.83],\n",
       "        [28.44],\n",
       "        [28.83],\n",
       "        [28.5 ],\n",
       "        [29.96],\n",
       "        [28.86],\n",
       "        [30.78],\n",
       "        [29.31],\n",
       "        [29.08],\n",
       "        [32.84],\n",
       "        [28.65],\n",
       "        [29.  ],\n",
       "        [28.5 ],\n",
       "        [30.26],\n",
       "        [26.65],\n",
       "        [32.27],\n",
       "        [29.19],\n",
       "        [28.76],\n",
       "        [29.46],\n",
       "        [30.27],\n",
       "        [31.74],\n",
       "        [28.79],\n",
       "        [29.07],\n",
       "        [30.22],\n",
       "        [30.68],\n",
       "        [31.51],\n",
       "        [32.57],\n",
       "        [28.88],\n",
       "        [32.05],\n",
       "        [30.74],\n",
       "        [32.06],\n",
       "        [28.64],\n",
       "        [28.67],\n",
       "        [30.23],\n",
       "        [29.22],\n",
       "        [28.83],\n",
       "        [31.01],\n",
       "        [29.7 ],\n",
       "        [29.59],\n",
       "        [30.05],\n",
       "        [29.58],\n",
       "        [28.5 ],\n",
       "        [29.47],\n",
       "        [29.18],\n",
       "        [29.67],\n",
       "        [28.61],\n",
       "        [28.85],\n",
       "        [28.95],\n",
       "        [31.51],\n",
       "        [29.17],\n",
       "        [30.23],\n",
       "        [28.52],\n",
       "        [29.01],\n",
       "        [29.07],\n",
       "        [28.67],\n",
       "        [29.03],\n",
       "        [28.87],\n",
       "        [31.19],\n",
       "        [29.45],\n",
       "        [28.53],\n",
       "        [29.43],\n",
       "        [30.74],\n",
       "        [31.08],\n",
       "        [29.5 ],\n",
       "        [32.28],\n",
       "        [29.35],\n",
       "        [32.57],\n",
       "        [30.24],\n",
       "        [29.96],\n",
       "        [30.49],\n",
       "        [29.7 ],\n",
       "        [30.25],\n",
       "        [29.54],\n",
       "        [29.31],\n",
       "        [27.09]]),\n",
       " array([65, 70, 73, 74, 62, 63, 76, 74, 61, 76, 78, 82, 64, 79, 65, 66, 63,\n",
       "        73, 70, 76, 76, 74, 82, 81, 78, 64, 66, 74, 79, 77, 78, 68, 80, 72,\n",
       "        65, 67, 76, 77, 75, 67, 62, 77, 80, 74, 68, 74, 64, 81, 72, 79, 79,\n",
       "        82, 79, 73, 79, 80, 78, 73, 81, 72, 77, 81, 63, 79, 77, 78, 72, 89,\n",
       "        66, 79, 82, 75, 69, 66, 79, 80, 70, 69, 68, 63, 78, 68, 69, 66, 81,\n",
       "        78, 71, 76, 76, 71, 73, 75, 72, 75, 78, 77, 77, 74, 77, 77, 81, 67,\n",
       "        79, 75, 78, 74, 75, 79, 75, 77, 69, 74, 86, 74, 68, 67, 77, 63, 76,\n",
       "        61, 72, 76, 72, 77, 71, 74, 78, 86]))"
      ]
     },
     "execution_count": 17,
     "metadata": {},
     "output_type": "execute_result"
    }
   ],
   "source": [
    "#fitting our data in linear regression model\n",
    "lin_reg.fit(x_train, y_train)\n",
    "x_train, y_train"
   ]
  },
  {
   "cell_type": "code",
   "execution_count": 18,
   "metadata": {},
   "outputs": [],
   "source": [
    "#making predictions\n",
    "lin_reg_pred = lin_reg.predict(x_test)"
   ]
  },
  {
   "cell_type": "code",
   "execution_count": 28,
   "metadata": {},
   "outputs": [
    {
     "name": "stdout",
     "output_type": "stream",
     "text": [
      "Coefficients:\n",
      " [-4.02872657]\n",
      "Intercept:\n",
      " 194.52212906698855\n"
     ]
    }
   ],
   "source": [
    "#coef_ and intercept_ are coefficients and intercepts resp. for our model\n",
    "print(\"Coefficients:\\n\",lin_reg.coef_)\n",
    "print(\"Intercept:\\n\",lin_reg.intercept_)"
   ]
  },
  {
   "cell_type": "code",
   "execution_count": 20,
   "metadata": {},
   "outputs": [
    {
     "name": "stdout",
     "output_type": "stream",
     "text": [
      "Mean Squared Error:\n",
      " 4.619380186668189\n"
     ]
    }
   ],
   "source": [
    "#the mean squared error\n",
    "print(\"Mean Squared Error:\\n\", mean_squared_error(y_test, lin_reg_pred))"
   ]
  },
  {
   "cell_type": "code",
   "execution_count": 22,
   "metadata": {},
   "outputs": [
    {
     "name": "stdout",
     "output_type": "stream",
     "text": [
      "Variance score: \n",
      " 0.8738735785210051\n"
     ]
    }
   ],
   "source": [
    "# Explained variance score: 1 is perfect prediction\n",
    "print(\"Variance score: \\n\", r2_score(y_test, lin_reg_pred))"
   ]
  },
  {
   "cell_type": "code",
   "execution_count": 26,
   "metadata": {},
   "outputs": [
    {
     "data": {
      "image/png": "[encoded data removed]",
      "text/plain": [
       "<Figure size 432x288 with 1 Axes>"
      ]
     },
     "metadata": {
      "needs_background": "light"
     },
     "output_type": "display_data"
    }
   ],
   "source": [
    "#Plotting the graph for test dataset\n",
    "plt.scatter(x_test, y_test, color=\"red\")\n",
    "plt.plot(x_test, lin_reg_pred, color=\"blue\")\n",
    "plt.title('Temperature vs Humidity(Test set)')\n",
    "plt.xlabel('Temperature')\n",
    "plt.ylabel('Relative Humidity')\n",
    "plt.show()"
   ]
  },
  {
   "cell_type": "code",
   "execution_count": 31,
   "metadata": {},
   "outputs": [
    {
     "data": {
      "text/plain": [
       "array([65.60287897])"
      ]
     },
     "execution_count": 31,
     "metadata": {},
     "output_type": "execute_result"
    }
   ],
   "source": [
    "#test some predict\n",
    "test_pred = 32 * lin_reg.coef_ + lin_reg.intercept_\n",
    "test_pred"
   ]
  },
  {
   "cell_type": "code",
   "execution_count": null,
   "metadata": {},
   "outputs": [],
   "source": []
  }
 ],
 "metadata": {
  "kernelspec": {
   "display_name": "Python 3",
   "language": "python",
   "name": "python3"
  },
  "language_info": {
   "codemirror_mode": {
    "name": "ipython",
    "version": 3
   },
   "file_extension": ".py",
   "mimetype": "text/x-python",
   "name": "python",
   "nbconvert_exporter": "python",
   "pygments_lexer": "ipython3",
   "version": "3.7.4"
  }
 },
 "nbformat": 4,
 "nbformat_minor": 2
}
